{
  "nbformat": 4,
  "nbformat_minor": 0,
  "metadata": {
    "colab": {
      "provenance": []
    },
    "kernelspec": {
      "name": "python3",
      "display_name": "Python 3"
    },
    "language_info": {
      "name": "python"
    }
  },
  "cells": [
    {
      "cell_type": "markdown",
      "source": [
        "# **CAH effect**"
      ],
      "metadata": {
        "id": "ibEQdTxbXmHJ"
      }
    },
    {
      "cell_type": "code",
      "source": [
        "import math\n",
        "import numpy as np\n",
        "import matplotlib.pyplot as plt\n",
        "from scipy.cluster.hierarchy import linkage, fcluster,dendrogram\n",
        "import numpy as np\n",
        "\n",
        "\n",
        "# Define points\n",
        "points = [\n",
        "    (2,2),    # P1\n",
        "    (7.5,4),   # P2\n",
        "    (3, 3),    # P3\n",
        "    (0.5,5),    # P4\n",
        "    (6,4)  # P5\n",
        "]"
      ],
      "metadata": {
        "id": "ecMgFccXyIYH"
      },
      "execution_count": 18,
      "outputs": []
    },
    {
      "cell_type": "code",
      "execution_count": 19,
      "metadata": {
        "colab": {
          "base_uri": "https://localhost:8080/"
        },
        "id": "7HjzmzxWRQwF",
        "outputId": "435387c2-c7c0-4050-ffea-e1d558e3eaa7"
      },
      "outputs": [
        {
          "output_type": "stream",
          "name": "stdout",
          "text": [
            "\n",
            "Initial Distance Matrix:\n",
            "P1    0.00   5.85   1.41   3.35   4.47\n",
            "P2    5.85   0.00   4.61   7.07   1.50\n",
            "P3    1.41   4.61   0.00   3.20   3.16\n",
            "P4    3.35   7.07   3.20   0.00   5.59\n",
            "P5    4.47   1.50   3.16   5.59   0.00\n",
            "\n",
            "Using Minimum Distance:\n",
            "\n",
            "Step 1 Distance Matrix:\n",
            "  0.00   5.85   3.35   4.47\n",
            "  5.85   0.00   7.07   1.50\n",
            "  3.35   7.07   0.00   5.59\n",
            "  4.47   1.50   5.59   0.00\n",
            "\n",
            "Step 2 Distance Matrix:\n",
            "  0.00   5.85   3.20\n",
            "  5.85   0.00   7.07\n",
            "  3.20   7.07   0.00\n",
            "\n",
            "Step 3 Distance Matrix:\n",
            "  0.00   7.07\n",
            "  7.07   0.00\n",
            "\n",
            "Step 4 Distance Matrix:\n",
            "  0.00\n",
            "\n",
            "Initial Distance Matrix:\n",
            "P1    0.00   5.85   1.41   3.35   4.47\n",
            "P2    5.85   0.00   4.61   7.07   1.50\n",
            "P3    1.41   4.61   0.00   3.20   3.16\n",
            "P4    3.35   7.07   3.20   0.00   5.59\n",
            "P5    4.47   1.50   3.16   5.59   0.00\n",
            "\n",
            "Using Maximum Distance:\n",
            "\n",
            "Step 1 Distance Matrix:\n",
            "  0.00   5.85   1.41   4.47\n",
            "  5.85   0.00   4.61   5.59\n",
            "  1.41   4.61   0.00   3.16\n",
            "  4.47   5.59   3.16   0.00\n",
            "\n",
            "Step 2 Distance Matrix:\n",
            "  0.00   4.61   5.59\n",
            "  4.61   0.00   3.16\n",
            "  5.59   3.16   0.00\n",
            "\n",
            "Step 3 Distance Matrix:\n",
            "  0.00   4.61\n",
            "  4.61   0.00\n",
            "\n",
            "Step 4 Distance Matrix:\n",
            "  0.00\n"
          ]
        }
      ],
      "source": [
        "# Euclidean distance function\n",
        "def distance(p1, p2):\n",
        "    return math.sqrt((p2[0] - p1[0])**2 + (p2[1] - p1[1])**2)\n",
        "\n",
        "# Create initial distance matrix\n",
        "def create_distance_matrix(points):\n",
        "    n = len(points)\n",
        "    matrix = np.zeros((n, n))\n",
        "    for i in range(n):\n",
        "        for j in range(i+1, n):\n",
        "            dist = distance(points[i], points[j])\n",
        "            matrix[i][j] = matrix[j][i] = round(dist, 2)\n",
        "    return matrix\n",
        "\n",
        "# CAH clustering with min/max distance option\n",
        "def cah_clustering(points, use_min_distance=True):\n",
        "    # Initial setup\n",
        "    clusters = [[p] for p in points]\n",
        "    labels = [f'P{i+1}' for i in range(len(points))]\n",
        "    distance_matrix = create_distance_matrix(points)\n",
        "\n",
        "    # Display the initial distance matrix\n",
        "    print(\"\\nInitial Distance Matrix:\")\n",
        "    for i, row in enumerate(distance_matrix):\n",
        "        print(f\"P{i+1} \", \" \".join(f\"{x:6.2f}\" for x in row))\n",
        "\n",
        "    # Intermediate tables to store\n",
        "    intermediate_tables = []\n",
        "    merge_count = 1  # Start merge count for labeling\n",
        "\n",
        "    while len(clusters) > 1:\n",
        "        # Find minimum or maximum distance\n",
        "        target_dist = float('inf') if use_min_distance else float('-inf')\n",
        "        target_indices = None\n",
        "        for i in range(len(clusters)):\n",
        "            for j in range(i+1, len(clusters)):\n",
        "                # Calculate distance between clusters\n",
        "                if use_min_distance:\n",
        "                    cluster_dist = min(distance(p1, p2) for p1 in clusters[i] for p2 in clusters[j])\n",
        "                else:\n",
        "                    cluster_dist = max(distance(p1, p2) for p1 in clusters[i] for p2 in clusters[j])\n",
        "\n",
        "                if (use_min_distance and cluster_dist < target_dist) or (not use_min_distance and cluster_dist > target_dist):\n",
        "                    target_dist = cluster_dist\n",
        "                    target_indices = (i, j)\n",
        "\n",
        "        # Merge closest or farthest clusters\n",
        "        i, j = target_indices\n",
        "        merged_cluster = clusters[i] + clusters[j]\n",
        "\n",
        "        # Update clusters and labels\n",
        "        new_clusters = []\n",
        "        new_labels = []\n",
        "        for k, cluster in enumerate(clusters):\n",
        "            if k == i:\n",
        "                new_clusters.append(merged_cluster)\n",
        "                new_labels.append(f'A{merge_count}')\n",
        "            elif k != j:\n",
        "                new_clusters.append(cluster)\n",
        "                new_labels.append(labels[k])\n",
        "\n",
        "        clusters = new_clusters\n",
        "        labels = new_labels\n",
        "        merge_count += 1  # Increment merge count\n",
        "\n",
        "        # Create and store intermediate distance matrix using the farthest neighbor criterion\n",
        "        inter_matrix = np.zeros((len(clusters), len(clusters)))\n",
        "        for r in range(len(clusters)):\n",
        "            for c in range(r+1, len(clusters)):\n",
        "                if r == i or c == i:  # If one of the clusters is the newly formed cluster\n",
        "                    dist = max(distance(p1, p2) for p1 in clusters[r] for p2 in clusters[c])\n",
        "                else:\n",
        "                    dist = min(distance(p1, p2) for p1 in clusters[r] for p2 in clusters[c]) if use_min_distance else max(distance(p1, p2) for p1 in clusters[r] for p2 in clusters[c])\n",
        "                inter_matrix[r][c] = inter_matrix[c][r] = round(dist, 2)\n",
        "\n",
        "        intermediate_tables.append({\n",
        "            'distance_matrix': inter_matrix\n",
        "        })\n",
        "\n",
        "    return intermediate_tables\n",
        "\n",
        "# Run CAH with min distance\n",
        "intermediate_steps = cah_clustering(points, use_min_distance=True)################################ USE MAX\n",
        "print(\"\\nUsing Minimum Distance:\")\n",
        "for i, step in enumerate(intermediate_steps, 1):\n",
        "    print(f\"\\nStep {i} Distance Matrix:\")\n",
        "    for j, row in enumerate(step['distance_matrix']):\n",
        "        print(\" \".join(f\"{x:6.2f}\" for x in row))\n",
        "\n",
        "# Run CAH with max distance\n",
        "intermediate_steps_max = cah_clustering(points, use_min_distance=False)\n",
        "print(\"\\nUsing Maximum Distance:\")\n",
        "for i, step in enumerate(intermediate_steps_max, 1):\n",
        "    print(f\"\\nStep {i} Distance Matrix:\")\n",
        "    for j, row in enumerate(step['distance_matrix']):\n",
        "        print(\" \".join(f\"{x:6.2f}\" for x in row))\n",
        "\n"
      ]
    },
    {
      "cell_type": "markdown",
      "source": [
        "# **Dendrogramme**"
      ],
      "metadata": {
        "id": "LdNA8WmZX0f2"
      }
    },
    {
      "cell_type": "code",
      "source": [
        "# Convert points to numpy array\n",
        "points_array = np.array(points)\n",
        "\n",
        "# Assuming 'points_array' is your NumPy array of data points\n",
        "Z = linkage(points_array, method='complete')\n",
        "# You can use other methods like 'single', 'average', 'ward' etc.\n",
        "\n",
        "plt.figure(figsize=(10, 7))  # Set figure size (optional)\n",
        "dendrogram(Z, labels=['P1', 'P2', 'P3', 'P4', 'P5'], orientation='top')\n",
        "# 'labels' should correspond to your data points\n",
        "plt.title('Dendrogram')\n",
        "plt.xlabel('Data Points')\n",
        "plt.ylabel('Distance')\n",
        "plt.show()"
      ],
      "metadata": {
        "colab": {
          "base_uri": "https://localhost:8080/",
          "height": 645
        },
        "id": "1ii7w_tpCk9q",
        "outputId": "c3f56399-c5c4-4e8c-cc97-78c31e77ee50"
      },
      "execution_count": 20,
      "outputs": [
        {
          "output_type": "display_data",
          "data": {
            "text/plain": [
              "<Figure size 1000x700 with 1 Axes>"
            ],
            "image/png": "[encoded data removed]"
          },
          "metadata": {}
        }
      ]
    },
    {
      "cell_type": "markdown",
      "source": [
        "# **Tableau des distances ultramétriques**"
      ],
      "metadata": {
        "id": "LZGBWI0MdiFF"
      }
    },
    {
      "cell_type": "code",
      "source": [
        "#Tableau des distances ultramétriques\n",
        "\n",
        "def create_ultrametric_distance_matrix(Z, points):\n",
        "    n = len(points)\n",
        "    ultrametric = np.zeros((n, n))\n",
        "\n",
        "    # Keep track of which points are in which cluster at each level\n",
        "    cluster_membership = np.arange(n)\n",
        "\n",
        "    # Process each merging step from Z\n",
        "    for i, (c1, c2, dist, _) in enumerate(Z):\n",
        "        c1, c2 = int(c1), int(c2)\n",
        "\n",
        "        # Find all points in each cluster\n",
        "        mask1 = cluster_membership == c1\n",
        "        mask2 = cluster_membership == c2\n",
        "\n",
        "        # Update the cluster membership for merged clusters\n",
        "        new_cluster_id = n + i\n",
        "        cluster_membership[mask1 | mask2] = new_cluster_id\n",
        "\n",
        "        # Update distances between all points in the different clusters\n",
        "        for p1 in range(n):\n",
        "            for p2 in range(n):\n",
        "                if ((cluster_membership[p1] == c1 and cluster_membership[p2] == c2) or\n",
        "                    (cluster_membership[p1] == c2 and cluster_membership[p2] == c1)):\n",
        "                    ultrametric[p1][p2] = dist\n",
        "                    ultrametric[p2][p1] = dist\n",
        "                elif ultrametric[p1][p2] == 0 and p1 != p2:\n",
        "                    # For points that were previously in the same cluster\n",
        "                    if cluster_membership[p1] == cluster_membership[p2]:\n",
        "                        ultrametric[p1][p2] = dist\n",
        "                        ultrametric[p2][p1] = dist\n",
        "\n",
        "    return ultrametric\n",
        "\n",
        "# Calculate the linkage matrix Z using complete linkage (maximum distance)\n",
        "Z = linkage(points_array, method='complete')\n",
        "\n",
        "# Create and print the ultrametric matrix\n",
        "ultrametric_matrix = create_ultrametric_distance_matrix(Z, points)\n",
        "print(\"\\nUltrametric Distance Matrix:\")\n",
        "print(\"     \", end=\"\")\n",
        "for i in range(len(points)):\n",
        "    print(f\"P{i+1:2d}   \", end=\"\")\n",
        "print()\n",
        "for i in range(len(points)):\n",
        "    print(f\"P{i+1:2d}\", end=\"  \")\n",
        "    for j in range(len(points)):\n",
        "        print(f\"{ultrametric_matrix[i][j]:5.2f}\", end=\" \")\n",
        "    print()"
      ],
      "metadata": {
        "colab": {
          "base_uri": "https://localhost:8080/"
        },
        "id": "_zEmci0q9aPT",
        "outputId": "03330936-f61e-48c9-a6a5-a021715e64e7"
      },
      "execution_count": 21,
      "outputs": [
        {
          "output_type": "stream",
          "name": "stdout",
          "text": [
            "\n",
            "Ultrametric Distance Matrix:\n",
            "     P 1   P 2   P 3   P 4   P 5   \n",
            "P 1   0.00  7.07  1.41  3.35  7.07 \n",
            "P 2   7.07  0.00  7.07  7.07  1.50 \n",
            "P 3   1.41  7.07  0.00  3.35  7.07 \n",
            "P 4   3.35  7.07  3.35  0.00  7.07 \n",
            "P 5   7.07  1.50  7.07  7.07  0.00 \n"
          ]
        }
      ]
    },
    {
      "cell_type": "markdown",
      "source": [
        "# **find largest jump**"
      ],
      "metadata": {
        "id": "qaG4u_tk9e_t"
      }
    },
    {
      "cell_type": "code",
      "source": [
        "def find_best_partitions(Z):\n",
        "    # Get the heights from Z\n",
        "    heights = Z[:, 2]\n",
        "    heights = sorted(heights)\n",
        "\n",
        "    # Calculate jumps between consecutive heights\n",
        "    jumps = np.diff(heights)\n",
        "\n",
        "    print(\"\\nAnalysis of heights and jumps:\")\n",
        "    for i in range(len(jumps)):\n",
        "        print(f\"Between height {heights[i]:.2f} and {heights[i+1]:.2f}: jump = {jumps[i]:.2f}\")\n",
        "\n",
        "    # Find significant jumps (largest differences)\n",
        "    significant_jumps_idx = np.argsort(jumps)[::-1]  # Sort in descending order\n",
        "\n",
        "    print(\"\\nBest partitions based on largest jumps:\")\n",
        "    for idx in significant_jumps_idx[:2]:  # Look at top 2 largest jumps\n",
        "        height = heights[idx]\n",
        "        jump = jumps[idx]\n",
        "        print(f\"\\nAt height {height:.2f} (jump: {jump:.2f}):\")\n",
        "\n",
        "        # Determine the number of clusters at this height\n",
        "        num_clusters = len(Z) + 1 - (idx + 1)  # Total clusters minus the index of the jump\n",
        "        print(f\"Number of clusters: {num_clusters}\")\n",
        "\n",
        "        # Print the partitions based on the height\n",
        "        labels = fcluster(Z, height, criterion='distance')\n",
        "        clusters = {}\n",
        "\n",
        "        for i in range(1, num_clusters + 1):\n",
        "            clusters[f'A{i}'] = [f'P{j+1}' for j in range(len(points)) if labels[j] == i]\n",
        "\n",
        "        for cluster_name, members in clusters.items():\n",
        "            print(f\"{cluster_name} = {members}\")\n",
        "\n",
        "# After creating the linkage matrix Z, call the function\n",
        "Z = linkage(points_array, method='complete')\n",
        "find_best_partitions(Z)"
      ],
      "metadata": {
        "colab": {
          "base_uri": "https://localhost:8080/"
        },
        "id": "oNN6wQAefeHV",
        "outputId": "73c34f59-6e96-428a-a21a-8852e17157d0"
      },
      "execution_count": 22,
      "outputs": [
        {
          "output_type": "stream",
          "name": "stdout",
          "text": [
            "\n",
            "Analysis of heights and jumps:\n",
            "Between height 1.41 and 1.50: jump = 0.09\n",
            "Between height 1.50 and 3.35: jump = 1.85\n",
            "Between height 3.35 and 7.07: jump = 3.72\n",
            "\n",
            "Best partitions based on largest jumps:\n",
            "\n",
            "At height 3.35 (jump: 3.72):\n",
            "Number of clusters: 2\n",
            "A1 = ['P2', 'P5']\n",
            "A2 = ['P1', 'P3', 'P4']\n",
            "\n",
            "At height 1.50 (jump: 1.85):\n",
            "Number of clusters: 3\n",
            "A1 = ['P2', 'P5']\n",
            "A2 = ['P1', 'P3']\n",
            "A3 = ['P4']\n"
          ]
        }
      ]
    },
    {
      "cell_type": "code",
      "source": [],
      "metadata": {
        "id": "cVspJUDblseI"
      },
      "execution_count": null,
      "outputs": []
    }
  ]
}